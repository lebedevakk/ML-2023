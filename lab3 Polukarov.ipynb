{
 "cells": [
  {
   "cell_type": "code",
   "execution_count": 11,
   "id": "5cadf966",
   "metadata": {},
   "outputs": [
    {
     "name": "stdout",
     "output_type": "stream",
     "text": [
      "[[ 1.1  2.2  3.3  4.4]\n",
      " [ 5.5  6.6  7.7  8.8]\n",
      " [ 9.9 10.1 11.2 12.3]]\n",
      "float64\n",
      "(3, 4)\n",
      "2\n",
      "12\n",
      "3\n",
      "8\n",
      "96\n"
     ]
    }
   ],
   "source": [
    "### ЗАВДАННЯ 1.1\n",
    "import numpy as np\n",
    "arr1_1 = np.array([[1.1, 2.2, 3.3, 4.4],\n",
    "                   [5.5, 6.6, 7.7, 8.8],\n",
    "                   [9.9, 10.1, 11.2, 12.3]])\n",
    "print(arr1_1)\n",
    "print(arr1_1.dtype)\n",
    "print(arr1_1.shape)\n",
    "print(arr1_1.ndim)\n",
    "print(arr1_1.size)\n",
    "print(len(arr1_1))\n",
    "print(arr1_1.itemsize)\n",
    "print(arr1_1.nbytes)"
   ]
  },
  {
   "cell_type": "code",
   "execution_count": 12,
   "id": "be6750be",
   "metadata": {},
   "outputs": [
    {
     "name": "stdout",
     "output_type": "stream",
     "text": [
      "['apple' 'banana' 'cherry' 'date' 'elderberry']\n"
     ]
    }
   ],
   "source": [
    "### ЗАВДАННЯ 1.2\n",
    "arr1_2 = np.array(['apple', 'banana', 'cherry', 'date', 'elderberry'])\n",
    "print(arr1_2)"
   ]
  },
  {
   "cell_type": "code",
   "execution_count": 13,
   "id": "7a282f41",
   "metadata": {},
   "outputs": [
    {
     "name": "stdout",
     "output_type": "stream",
     "text": [
      "[[1. 1. 1. 1.]\n",
      " [1. 1. 1. 1.]\n",
      " [1. 1. 1. 1.]]\n",
      "float64\n"
     ]
    }
   ],
   "source": [
    "### ЗАВДАННЯ 1.3\n",
    "arr1_3 = np.ones((3, 4))\n",
    "print(arr1_3)\n",
    "print(arr1_3.dtype)"
   ]
  },
  {
   "cell_type": "code",
   "execution_count": 14,
   "id": "f61e58e4",
   "metadata": {},
   "outputs": [
    {
     "name": "stdout",
     "output_type": "stream",
     "text": [
      "[[[False False False]]\n",
      "\n",
      " [[False False False]]\n",
      "\n",
      " [[False False False]]]\n"
     ]
    }
   ],
   "source": [
    "### ЗАВДАННЯ 2.1\n",
    "arr2_1 = np.full((3,1,3), False, dtype=bool)\n",
    "print(arr2_1)"
   ]
  },
  {
   "cell_type": "code",
   "execution_count": 15,
   "id": "647e53bb",
   "metadata": {},
   "outputs": [
    {
     "name": "stdout",
     "output_type": "stream",
     "text": [
      "[[0 0 0]\n",
      " [0 0 0]\n",
      " [0 0 0]]\n"
     ]
    }
   ],
   "source": [
    "### ЗАВДАННЯ 2.2\n",
    "arr2_2 = arr2_1.reshape((3, 3)).astype('int')\n",
    "print(arr2_2)"
   ]
  },
  {
   "cell_type": "code",
   "execution_count": 29,
   "id": "54c86d03",
   "metadata": {},
   "outputs": [
    {
     "name": "stdout",
     "output_type": "stream",
     "text": [
      "[[10 12 14]\n",
      " [16 18 20]]\n"
     ]
    }
   ],
   "source": [
    "### ЗАВДАННЯ 2.3\n",
    "arr2_3 = np.arange(10, 22, 2).reshape((2, 3))\n",
    "print(arr2_3)"
   ]
  },
  {
   "cell_type": "code",
   "execution_count": 31,
   "id": "1f8fe89e",
   "metadata": {},
   "outputs": [
    {
     "name": "stdout",
     "output_type": "stream",
     "text": [
      "[[65.55312095 25.02341624 60.92841835 53.85592785 81.17539477]\n",
      " [42.42791364 40.74062064 62.49002305 79.53511016 76.37980655]\n",
      " [60.86626342 67.87001567 52.20718867 62.55260267 47.25878085]\n",
      " [53.22018208 33.1631645  45.67575003 63.83454384 66.0406485 ]]\n"
     ]
    }
   ],
   "source": [
    "### ЗАВДАННЯ 3.1\n",
    "arr3_1 = np.random.normal(loc=55, scale=15, size=(4, 5))\n",
    "arr3_1 = np.clip(arr3_1, 10, 100)\n",
    "print(arr3_1)"
   ]
  },
  {
   "cell_type": "code",
   "execution_count": 34,
   "id": "da058064",
   "metadata": {},
   "outputs": [
    {
     "name": "stdout",
     "output_type": "stream",
     "text": [
      "62.49002304792259\n"
     ]
    }
   ],
   "source": [
    "### ЗАВДАННЯ 3.2\n",
    "el3_2 = arr3_1[1, 2]\n",
    "print(el3_2)"
   ]
  },
  {
   "cell_type": "code",
   "execution_count": 35,
   "id": "afa3a012",
   "metadata": {},
   "outputs": [
    {
     "name": "stdout",
     "output_type": "stream",
     "text": [
      "[42.42791364 40.74062064 62.49002305 79.53511016 76.37980655]\n"
     ]
    }
   ],
   "source": [
    "### ЗАВДАННЯ 3.3\n",
    "vect3_3 = arr3_1[1, :]\n",
    "print(vect3_3)\n"
   ]
  },
  {
   "cell_type": "code",
   "execution_count": 36,
   "id": "e30b1d0a",
   "metadata": {},
   "outputs": [
    {
     "name": "stdout",
     "output_type": "stream",
     "text": [
      "[60.92841835 62.49002305 52.20718867 45.67575003]\n"
     ]
    }
   ],
   "source": [
    "### ЗАВДАННЯ 3.4\n",
    "vect3_4 = arr3_1[:, 2]\n",
    "print(vect3_4)"
   ]
  },
  {
   "cell_type": "code",
   "execution_count": 37,
   "id": "cc7e3608",
   "metadata": {},
   "outputs": [
    {
     "name": "stdout",
     "output_type": "stream",
     "text": [
      "[[40.74062064 62.49002305]\n",
      " [67.87001567 52.20718867]]\n"
     ]
    }
   ],
   "source": [
    "### ЗАВДАННЯ 3.5\n",
    "mat3_5 = arr3_1[1:3, 1:3]\n",
    "print(mat3_5)"
   ]
  },
  {
   "cell_type": "code",
   "execution_count": 71,
   "id": "2e0e0d86",
   "metadata": {},
   "outputs": [
    {
     "name": "stdout",
     "output_type": "stream",
     "text": [
      "[[188 170 126 136 169 190]\n",
      " [113 109 119 155 177 185]\n",
      " [123 172 146 103 176 106]\n",
      " [125 110 111 129 103 195]\n",
      " [132 183 124 141 160 192]\n",
      " [119 174 190 155 142 138]]\n"
     ]
    }
   ],
   "source": [
    "# ЗАВДАННЯ 4.1\n",
    "mat4_1 = np.random.randint(100, 200, size=(6, 6))\n",
    "print(mat4_1)"
   ]
  },
  {
   "cell_type": "code",
   "execution_count": 72,
   "id": "168ca7ce",
   "metadata": {},
   "outputs": [
    {
     "name": "stdout",
     "output_type": "stream",
     "text": [
      "[188 109 146 129 160 138]\n"
     ]
    }
   ],
   "source": [
    "# ЗАВДАННЯ 4.2\n",
    "diag4_2 = np.diag(mat4_1)\n",
    "print(diag4_2)"
   ]
  },
  {
   "cell_type": "code",
   "execution_count": 73,
   "id": "49aaf295",
   "metadata": {},
   "outputs": [
    {
     "name": "stdout",
     "output_type": "stream",
     "text": [
      "[[188 113 123 125 132 119]\n",
      " [170 109 172 110 183 174]\n",
      " [126 119 146 111 124 190]\n",
      " [136 155 103 129 141 155]\n",
      " [169 177 176 103 160 142]\n",
      " [190 185 106 195 192 138]]\n"
     ]
    }
   ],
   "source": [
    "# ЗАВДАННЯ 4.3\n",
    "trans4_3 = mat4_1.T\n",
    "print(trans4_3)"
   ]
  },
  {
   "cell_type": "code",
   "execution_count": 74,
   "id": "c45329ff",
   "metadata": {},
   "outputs": [
    {
     "name": "stdout",
     "output_type": "stream",
     "text": [
      "[[188 170 126 136 169 190]\n",
      " [113 109 119 155 177 185]\n",
      " [123 172 146 103 176 106]\n",
      " [125 110 111 129 103 195]\n",
      " [132 183 124 141 160 192]\n",
      " [119 174 190 155 142 138]]\n"
     ]
    }
   ],
   "source": [
    "# ЗАВДАННЯ 4.4\n",
    "inv4_4 = np.linalg.inv(mat4_1)\n",
    "print(mat4_1)"
   ]
  },
  {
   "cell_type": "code",
   "execution_count": 101,
   "id": "cf94af16",
   "metadata": {},
   "outputs": [
    {
     "name": "stdout",
     "output_type": "stream",
     "text": [
      "[[2 6 3 9]\n",
      " [9 5 6 4]\n",
      " [2 1 3 7]]\n",
      "[20 24 13]\n"
     ]
    }
   ],
   "source": [
    "# ЗАВДАННЯ 5.1\n",
    "mat5_1 = np.random.randint(1, 10, (3,4))\n",
    "sum_mat5_1 = np.sum(mat5_1, axis=1)\n",
    "print(mat5_1)\n",
    "print(sum_mat5_1)"
   ]
  },
  {
   "cell_type": "code",
   "execution_count": 102,
   "id": "39b441ee",
   "metadata": {},
   "outputs": [
    {
     "name": "stdout",
     "output_type": "stream",
     "text": [
      "13\n"
     ]
    }
   ],
   "source": [
    "# ЗАВДАННЯ 5.2\n",
    "min_mat5_1 = np.min(sum_mat5_1)\n",
    "print(min_mat5_1)\n"
   ]
  },
  {
   "cell_type": "code",
   "execution_count": 110,
   "id": "9703a652",
   "metadata": {},
   "outputs": [
    {
     "name": "stdout",
     "output_type": "stream",
     "text": [
      "[[102 106 103 109]\n",
      " [109 105 106 104]\n",
      " [102 101 103 107]]\n"
     ]
    }
   ],
   "source": [
    "# ЗАВДАННЯ 5.3\n",
    "mat5_3 = mat5_1 + 100\n",
    "print(mat5_3)"
   ]
  },
  {
   "cell_type": "code",
   "execution_count": null,
   "id": "a627f8e0",
   "metadata": {},
   "outputs": [],
   "source": []
  }
 ],
 "metadata": {
  "kernelspec": {
   "display_name": "Python 3 (ipykernel)",
   "language": "python",
   "name": "python3"
  },
  "language_info": {
   "codemirror_mode": {
    "name": "ipython",
    "version": 3
   },
   "file_extension": ".py",
   "mimetype": "text/x-python",
   "name": "python",
   "nbconvert_exporter": "python",
   "pygments_lexer": "ipython3",
   "version": "3.9.13"
  }
 },
 "nbformat": 4,
 "nbformat_minor": 5
}
